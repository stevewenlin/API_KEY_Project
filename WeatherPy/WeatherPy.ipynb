{
 "cells": [
  {
   "cell_type": "markdown",
   "metadata": {},
   "source": [
    "# WeatherPy\n",
    "----"
   ]
  },
  {
   "cell_type": "code",
   "execution_count": 52,
   "metadata": {
    "scrolled": true
   },
   "outputs": [],
   "source": [
    "# Dependencies and Setup\n",
    "import matplotlib.pyplot as plt\n",
    "import pandas as pd\n",
    "import numpy as np\n",
    "import requests\n",
    "import time\n",
    "import csv\n",
    "from scipy.stats import linregress\n",
    "from pprint import pprint \n",
    "\n",
    "# Import API key\n",
    "from api_keys import weather_api_key\n",
    "\n",
    "# Incorporated citipy to determine city based on latitude and longitude\n",
    "from citipy import citipy\n",
    "\n",
    "# Output File (CSV)\n",
    "output_data_file = \"output_data/cities.csv\"\n",
    "\n",
    "# Range of latitudes and longitudes\n",
    "lat_range = (-90, 90)\n",
    "lng_range = (-180, 180)"
   ]
  },
  {
   "cell_type": "markdown",
   "metadata": {},
   "source": [
    "## Generate Cities List"
   ]
  },
  {
   "cell_type": "code",
   "execution_count": 53,
   "metadata": {},
   "outputs": [
    {
     "data": {
      "text/plain": [
       "598"
      ]
     },
     "execution_count": 53,
     "metadata": {},
     "output_type": "execute_result"
    }
   ],
   "source": [
    "# List for holding lat_lngs and cities\n",
    "lat_lngs = []\n",
    "cities = []\n",
    "np.random.seed(123) #this sets fix/same number \n",
    "# Create a set of random lat and lng combinations\n",
    "\n",
    "lats = np.random.uniform(lat_range[0], lat_range[1], size=1500)\n",
    "lngs = np.random.uniform(lng_range[0], lng_range[1], size=1500)\n",
    "lat_lngs = zip(lats, lngs)\n",
    "\n",
    "# Identify nearest city for each lat, lng combination\n",
    "for lat_lng in lat_lngs:\n",
    "    city = citipy.nearest_city(lat_lng[0], lat_lng[1]).city_name\n",
    "    \n",
    "    # If the city is unique, then add it to a our cities list\n",
    "    if city not in cities:\n",
    "        cities.append(city)\n",
    "\n",
    "# Print the city count to confirm sufficient count\n",
    "len(cities)"
   ]
  },
  {
   "cell_type": "markdown",
   "metadata": {},
   "source": [
    "### Perform API Calls\n",
    "* Perform a weather check on each city using a series of successive API calls.\n",
    "* Include a print log of each city as it'sbeing processed (with the city number and city name).\n"
   ]
  },
  {
   "cell_type": "code",
   "execution_count": 69,
   "metadata": {},
   "outputs": [
    {
     "name": "stdout",
     "output_type": "stream",
     "text": [
      "Beginning Data Retrieval\n",
      "-----------------------------\n",
      "processing city 1 | camacha\n",
      "processing city 2 | mataura\n",
      "processing city 3 | hobart\n",
      "processing city 4 | bargal\n",
      "City not found. Skipping...\n",
      "processing city 5 | manacor\n",
      "processing city 6 | sao jose da coroa grande\n",
      "processing city 7 | barrow\n",
      "processing city 8 | levelland\n",
      "processing city 9 | ambon\n",
      "processing city 10 | morondava\n",
      "processing city 11 | rikitea\n",
      "processing city 12 | ogden\n",
      "processing city 13 | alta floresta\n",
      "processing city 14 | port alfred\n",
      "processing city 15 | ongandjera\n",
      "processing city 16 | bastia\n",
      "processing city 17 | new norfolk\n",
      "processing city 18 | mabay\n",
      "processing city 19 | ugoofaaru\n",
      "processing city 20 | ponta do sol\n",
      "processing city 21 | attawapiskat\n",
      "City not found. Skipping...\n",
      "processing city 22 | severo-kurilsk\n",
      "processing city 23 | kapaa\n",
      "processing city 24 | horasan\n",
      "processing city 25 | esperance\n",
      "processing city 26 | taltal\n",
      "processing city 27 | dunedin\n",
      "processing city 28 | victor harbor\n",
      "processing city 29 | eldorado\n",
      "processing city 30 | punta arenas\n",
      "processing city 31 | daru\n",
      "processing city 32 | atuona\n",
      "processing city 33 | lazaro cardenas\n",
      "processing city 34 | montepuez\n",
      "processing city 35 | kasempa\n",
      "processing city 36 | kjollefjord\n",
      "processing city 37 | vardo\n",
      "processing city 38 | puerto ayora\n",
      "processing city 39 | jieshi\n",
      "processing city 40 | bluff\n",
      "processing city 41 | talcahuano\n",
      "processing city 42 | katherine\n",
      "processing city 43 | iqaluit\n",
      "processing city 44 | mar del plata\n",
      "processing city 45 | curup\n",
      "processing city 46 | tuktoyaktuk\n",
      "processing city 47 | hilo\n",
      "processing city 48 | homer\n",
      "processing city 49 | marawi\n",
      "processing city 50 | san patricio\n",
      "processing city 51 | vallenar\n",
      "processing city 52 | bambous virieux\n",
      "processing city 53 | tiarei\n",
      "processing city 54 | nikolskoye\n",
      "processing city 55 | clyde river\n",
      "processing city 56 | ouesso\n",
      "processing city 57 | anju\n",
      "processing city 58 | san francisco del mar\n",
      "processing city 59 | codrington\n",
      "processing city 60 | praxedis guerrero\n",
      "processing city 61 | nanortalik\n",
      "processing city 62 | busselton\n",
      "processing city 63 | balkhash\n",
      "processing city 64 | cape town\n",
      "processing city 65 | kavaratti\n",
      "processing city 66 | belushya guba\n",
      "City not found. Skipping...\n",
      "processing city 67 | cabo san lucas\n",
      "processing city 68 | vrangel\n",
      "processing city 69 | ushuaia\n",
      "processing city 70 | sinnamary\n",
      "processing city 71 | am timan\n",
      "processing city 72 | taolanaro\n",
      "City not found. Skipping...\n",
      "processing city 73 | mingaora\n",
      "processing city 74 | lebu\n",
      "processing city 75 | saint george\n",
      "processing city 76 | hithadhoo\n",
      "processing city 77 | cherskiy\n",
      "processing city 78 | belyy yar\n",
      "processing city 79 | arraial do cabo\n",
      "processing city 80 | tautira\n",
      "processing city 81 | dikson\n",
      "processing city 82 | beloha\n",
      "processing city 83 | lermontovka\n",
      "processing city 84 | charlestown\n",
      "processing city 85 | taybad\n",
      "processing city 86 | hermanus\n",
      "processing city 87 | harper\n",
      "processing city 88 | half moon bay\n",
      "processing city 89 | hasaki\n",
      "processing city 90 | tasiilaq\n",
      "processing city 91 | kavieng\n",
      "processing city 92 | almaznyy\n",
      "processing city 93 | caravelas\n",
      "processing city 94 | presidencia roque saenz pena\n",
      "processing city 95 | provideniya\n",
      "processing city 96 | santa cruz\n",
      "processing city 97 | razole\n",
      "processing city 98 | husavik\n",
      "processing city 99 | lorengau\n",
      "processing city 100 | ilulissat\n",
      "processing city 101 | khatanga\n",
      "processing city 102 | bethel\n",
      "processing city 103 | quatre cocos\n",
      "processing city 104 | lingyuan\n",
      "processing city 105 | guerrero negro\n",
      "processing city 106 | kuusamo\n",
      "processing city 107 | qaanaaq\n",
      "processing city 108 | chuy\n",
      "processing city 109 | georgetown\n",
      "processing city 110 | oroquieta\n",
      "processing city 111 | saldanha\n",
      "processing city 112 | saskylakh\n",
      "processing city 113 | dunda\n",
      "processing city 114 | wulanhaote\n",
      "City not found. Skipping...\n",
      "processing city 115 | hami\n",
      "processing city 116 | gornopravdinsk\n",
      "processing city 117 | pinczow\n",
      "processing city 118 | karanpura\n",
      "processing city 119 | albany\n",
      "processing city 120 | sentyabrskiy\n",
      "City not found. Skipping...\n",
      "processing city 121 | andenes\n",
      "processing city 122 | cansancao\n",
      "processing city 123 | nguiu\n",
      "City not found. Skipping...\n",
      "processing city 124 | hibbing\n",
      "processing city 125 | airai\n",
      "processing city 126 | butaritari\n",
      "processing city 127 | sitka\n",
      "processing city 128 | port augusta\n",
      "processing city 129 | barentsburg\n",
      "City not found. Skipping...\n",
      "processing city 130 | valiug\n",
      "City not found. Skipping...\n",
      "processing city 131 | izhma\n",
      "processing city 132 | turinsk\n",
      "processing city 133 | neiafu\n",
      "processing city 134 | falealupo\n",
      "City not found. Skipping...\n",
      "processing city 135 | trincomalee\n",
      "processing city 136 | geraldton\n",
      "processing city 137 | mbanza-ngungu\n",
      "processing city 138 | balabac\n",
      "processing city 139 | lavrentiya\n",
      "processing city 140 | avarua\n",
      "processing city 141 | hamilton\n",
      "processing city 142 | port elizabeth\n",
      "processing city 143 | erenhot\n",
      "processing city 144 | micheweni\n",
      "processing city 145 | east london\n",
      "processing city 146 | zaplavnoye\n",
      "processing city 147 | rincon\n",
      "processing city 148 | saint-philippe\n",
      "processing city 149 | kahului\n",
      "processing city 150 | sahuaripa\n",
      "processing city 151 | vaini\n",
      "processing city 152 | tashtyp\n",
      "processing city 153 | kieta\n",
      "processing city 154 | bengkulu\n",
      "processing city 155 | revelstoke\n",
      "processing city 156 | santiago\n",
      "processing city 157 | victoria\n",
      "processing city 158 | amderma\n",
      "City not found. Skipping...\n",
      "processing city 159 | mys shmidta\n",
      "City not found. Skipping...\n",
      "processing city 160 | gandajika\n",
      "processing city 161 | bontang\n",
      "processing city 162 | tynda\n",
      "processing city 163 | nizhneyansk\n",
      "City not found. Skipping...\n",
      "processing city 164 | bechem\n",
      "processing city 165 | sur\n",
      "processing city 166 | sungaipenuh\n",
      "processing city 167 | mount isa\n",
      "processing city 168 | kiunga\n",
      "processing city 169 | tiksi\n",
      "processing city 170 | coquimbo\n",
      "processing city 171 | khislavichi\n",
      "processing city 172 | tsihombe\n",
      "City not found. Skipping...\n",
      "processing city 173 | don benito\n",
      "processing city 174 | port hedland\n",
      "processing city 175 | pangnirtung\n",
      "processing city 176 | yellowknife\n",
      "processing city 177 | vila velha\n",
      "processing city 178 | castro\n",
      "processing city 179 | gat\n",
      "processing city 180 | necochea\n",
      "processing city 181 | san ramon de la nueva oran\n",
      "processing city 182 | lompoc\n",
      "processing city 183 | thompson\n",
      "processing city 184 | lumby\n",
      "processing city 185 | bismil\n",
      "processing city 186 | mahebourg\n",
      "processing city 187 | wajima\n",
      "processing city 188 | christchurch\n",
      "processing city 189 | phuket\n",
      "processing city 190 | tubuala\n",
      "processing city 191 | beeville\n",
      "processing city 192 | palkaka\n",
      "City not found. Skipping...\n",
      "processing city 193 | lugazi\n",
      "processing city 194 | souillac\n",
      "processing city 195 | jamestown\n",
      "processing city 196 | komsomolskiy\n",
      "processing city 197 | pevek\n",
      "processing city 198 | pacific grove\n",
      "processing city 199 | norman wells\n",
      "processing city 200 | upington\n",
      "processing city 201 | byron bay\n",
      "processing city 202 | quelimane\n",
      "processing city 203 | lesozavodsk\n",
      "processing city 204 | grand river south east\n",
      "City not found. Skipping...\n",
      "processing city 205 | illoqqortoormiut\n",
      "City not found. Skipping...\n",
      "processing city 206 | babu\n",
      "processing city 207 | ancud\n",
      "processing city 208 | carnarvon\n",
      "processing city 209 | tigil\n",
      "processing city 210 | livermore\n",
      "processing city 211 | chicama\n",
      "processing city 212 | constitucion\n",
      "processing city 213 | gouyave\n",
      "processing city 214 | kruisfontein\n",
      "processing city 215 | sabha\n",
      "processing city 216 | smolyaninovo\n",
      "processing city 217 | sao filipe\n",
      "processing city 218 | saint-joseph\n",
      "processing city 219 | kargil\n",
      "processing city 220 | srednekolymsk\n",
      "processing city 221 | gracac\n",
      "processing city 222 | gorno-chuyskiy\n",
      "City not found. Skipping...\n",
      "processing city 223 | cabedelo\n",
      "processing city 224 | kodiak\n",
      "processing city 225 | luderitz\n",
      "processing city 226 | lishui\n",
      "processing city 227 | normandin\n",
      "processing city 228 | socorro\n",
      "processing city 229 | ustka\n",
      "processing city 230 | kulachi\n",
      "processing city 231 | broken hill\n",
      "processing city 232 | narsaq\n",
      "processing city 233 | hokitika\n",
      "processing city 234 | boueni\n",
      "processing city 235 | nuuk\n",
      "processing city 236 | saleaula\n",
      "City not found. Skipping...\n",
      "processing city 237 | margate\n",
      "processing city 238 | bredasdorp\n",
      "processing city 239 | sola\n",
      "processing city 240 | durban\n",
      "processing city 241 | moa\n",
      "processing city 242 | cidreira\n",
      "processing city 243 | turukhansk\n",
      "processing city 244 | ust-kamchatsk\n",
      "City not found. Skipping...\n",
      "processing city 245 | chokurdakh\n",
      "processing city 246 | halalo\n"
     ]
    },
    {
     "name": "stdout",
     "output_type": "stream",
     "text": [
      "City not found. Skipping...\n",
      "processing city 247 | los llanos de aridane\n",
      "processing city 248 | grand gaube\n",
      "processing city 249 | umzimvubu\n",
      "City not found. Skipping...\n",
      "processing city 250 | kaitangata\n",
      "processing city 251 | mackay\n",
      "processing city 252 | chotila\n",
      "processing city 253 | lata\n",
      "processing city 254 | svetlogorsk\n",
      "processing city 255 | inuvik\n",
      "processing city 256 | palmer\n",
      "processing city 257 | adolfo lopez mateos\n",
      "processing city 258 | nantucket\n",
      "processing city 259 | tocopilla\n",
      "processing city 260 | raga\n",
      "processing city 261 | nuevo laredo\n",
      "processing city 262 | comodoro rivadavia\n",
      "processing city 263 | castlegar\n",
      "processing city 264 | hirara\n",
      "processing city 265 | ampanihy\n",
      "processing city 266 | mina\n",
      "processing city 267 | geylegphug\n",
      "City not found. Skipping...\n",
      "processing city 268 | eureka\n",
      "processing city 269 | tandil\n",
      "processing city 270 | aripuana\n",
      "processing city 271 | grindavik\n",
      "processing city 272 | digras\n",
      "processing city 273 | karaul\n",
      "City not found. Skipping...\n",
      "processing city 274 | conceicao da barra\n",
      "processing city 275 | nome\n",
      "processing city 276 | padang\n",
      "processing city 277 | cap malheureux\n",
      "processing city 278 | delta del tigre\n",
      "processing city 279 | prince george\n",
      "processing city 280 | bilma\n",
      "processing city 281 | yeppoon\n",
      "processing city 282 | kendari\n",
      "processing city 283 | pinawa\n",
      "processing city 284 | ouango\n",
      "processing city 285 | riyadh\n",
      "processing city 286 | yulara\n",
      "processing city 287 | labe\n",
      "processing city 288 | mehran\n",
      "processing city 289 | rocha\n",
      "processing city 290 | sarangani\n",
      "processing city 291 | acapulco\n",
      "processing city 292 | ciudad real\n",
      "processing city 293 | werda\n",
      "processing city 294 | horki\n",
      "processing city 295 | lafiagi\n",
      "processing city 296 | hofn\n",
      "processing city 297 | tagusao\n",
      "processing city 298 | namatanai\n",
      "processing city 299 | la ronge\n",
      "processing city 300 | plaster rock\n",
      "processing city 301 | puerto escondido\n",
      "processing city 302 | vanimo\n",
      "processing city 303 | hudson bay\n",
      "processing city 304 | breves\n",
      "processing city 305 | boyolangu\n",
      "processing city 306 | young\n",
      "processing city 307 | aklavik\n",
      "processing city 308 | jian\n",
      "processing city 309 | verkhnyaya inta\n",
      "processing city 310 | kamenskoye\n",
      "City not found. Skipping...\n",
      "processing city 311 | fortuna\n",
      "processing city 312 | san vicente\n",
      "processing city 313 | horadiz\n",
      "processing city 314 | gurgan\n",
      "City not found. Skipping...\n",
      "processing city 315 | nhulunbuy\n",
      "processing city 316 | pacocha\n",
      "processing city 317 | luanda\n",
      "processing city 318 | jiujiang\n",
      "processing city 319 | alvand\n",
      "processing city 320 | longyearbyen\n",
      "processing city 321 | pamanukan\n",
      "processing city 322 | rio gallegos\n",
      "processing city 323 | ribeira grande\n",
      "processing city 324 | angoram\n",
      "processing city 325 | santona\n",
      "processing city 326 | kadugannawa\n",
      "processing city 327 | potosi\n",
      "processing city 328 | san quintin\n",
      "processing city 329 | sechura\n",
      "processing city 330 | port lincoln\n",
      "processing city 331 | kalianget\n",
      "processing city 332 | martinez\n",
      "processing city 333 | pascagoula\n",
      "processing city 334 | tateyama\n",
      "processing city 335 | tuatapere\n",
      "processing city 336 | galiwinku\n",
      "City not found. Skipping...\n",
      "processing city 337 | ubinskoye\n",
      "processing city 338 | xichang\n",
      "processing city 339 | lagoa\n",
      "processing city 340 | chapais\n",
      "processing city 341 | leningradskiy\n",
      "processing city 342 | labutta\n",
      "City not found. Skipping...\n",
      "processing city 343 | thunder bay\n",
      "processing city 344 | butembo\n",
      "processing city 345 | isangel\n",
      "processing city 346 | nurlat\n",
      "processing city 347 | fuerte olimpo\n",
      "processing city 348 | luceville\n",
      "City not found. Skipping...\n",
      "processing city 349 | novoagansk\n",
      "processing city 350 | parintins\n",
      "processing city 351 | lityn\n",
      "processing city 352 | port-gentil\n",
      "processing city 353 | klaksvik\n",
      "processing city 354 | faya\n",
      "processing city 355 | shelburne\n",
      "processing city 356 | corning\n",
      "processing city 357 | prainha\n",
      "processing city 358 | katsuura\n",
      "processing city 359 | deputatskiy\n",
      "processing city 360 | taoudenni\n",
      "processing city 361 | tucupita\n",
      "processing city 362 | ornskoldsvik\n",
      "processing city 363 | angra\n",
      "City not found. Skipping...\n",
      "processing city 364 | avera\n",
      "processing city 365 | talnakh\n",
      "processing city 366 | chifeng\n",
      "processing city 367 | nanga eboko\n",
      "processing city 368 | port hardy\n",
      "processing city 369 | puerto baquerizo moreno\n",
      "processing city 370 | vir\n",
      "processing city 371 | boyuibe\n",
      "processing city 372 | batemans bay\n",
      "processing city 373 | buraydah\n",
      "processing city 374 | moron\n",
      "processing city 375 | carnduff\n",
      "processing city 376 | paredon\n",
      "processing city 377 | panaba\n",
      "processing city 378 | abomsa\n",
      "processing city 379 | north port\n",
      "processing city 380 | juneau\n",
      "processing city 381 | walvis bay\n",
      "processing city 382 | upernavik\n",
      "processing city 383 | beringovskiy\n",
      "processing city 384 | samusu\n",
      "City not found. Skipping...\n",
      "processing city 385 | suntar\n",
      "processing city 386 | ngukurr\n",
      "City not found. Skipping...\n",
      "processing city 387 | ilam\n",
      "processing city 388 | igarape-miri\n",
      "City not found. Skipping...\n",
      "processing city 389 | simbahan\n",
      "processing city 390 | vung tau\n",
      "processing city 391 | egvekinot\n",
      "processing city 392 | yola\n",
      "processing city 393 | kupang\n",
      "processing city 394 | arman\n",
      "processing city 395 | marcona\n",
      "City not found. Skipping...\n",
      "processing city 396 | kathmandu\n",
      "processing city 397 | minas\n",
      "processing city 398 | oriximina\n",
      "processing city 399 | inongo\n",
      "processing city 400 | weiser\n",
      "processing city 401 | wichian buri\n",
      "processing city 402 | bosaso\n",
      "processing city 403 | labuhan\n",
      "processing city 404 | sobolevo\n",
      "processing city 405 | pulawy\n",
      "processing city 406 | weligama\n",
      "processing city 407 | nakhon thai\n",
      "processing city 408 | tabuk\n",
      "processing city 409 | college\n",
      "processing city 410 | wilmington island\n",
      "processing city 411 | springdale\n",
      "processing city 412 | okhotsk\n",
      "processing city 413 | adrar\n",
      "processing city 414 | vanavara\n",
      "processing city 415 | nioro\n",
      "processing city 416 | tapes\n",
      "processing city 417 | muros\n",
      "processing city 418 | druzhba\n",
      "processing city 419 | manokwari\n",
      "processing city 420 | carmaux\n",
      "processing city 421 | ostrovnoy\n",
      "processing city 422 | saint-pierre\n",
      "processing city 423 | ouangani\n",
      "processing city 424 | torbay\n",
      "processing city 425 | valparai\n",
      "processing city 426 | viedma\n",
      "processing city 427 | tongzhou\n",
      "processing city 428 | agua prieta\n",
      "processing city 429 | virginia beach\n",
      "processing city 430 | matara\n",
      "processing city 431 | itarema\n",
      "processing city 432 | correntina\n",
      "processing city 433 | broome\n",
      "processing city 434 | pemba\n",
      "processing city 435 | ayan\n",
      "processing city 436 | kilindoni\n",
      "processing city 437 | aktau\n",
      "processing city 438 | maputo\n",
      "processing city 439 | gazojak\n",
      "processing city 440 | vangaindrano\n",
      "processing city 441 | pangody\n",
      "processing city 442 | san cristobal\n",
      "processing city 443 | sao joao da barra\n",
      "processing city 444 | santa lucia\n",
      "processing city 445 | balky\n",
      "processing city 446 | faanui\n",
      "processing city 447 | ambilobe\n",
      "processing city 448 | gamba\n",
      "processing city 449 | inhambane\n",
      "processing city 450 | palabuhanratu\n",
      "City not found. Skipping...\n",
      "processing city 451 | kitgum\n",
      "processing city 452 | vaitupu\n",
      "City not found. Skipping...\n",
      "processing city 453 | wanning\n",
      "processing city 454 | yokadouma\n",
      "processing city 455 | lima\n",
      "processing city 456 | umm lajj\n",
      "processing city 457 | forbes\n",
      "processing city 458 | whakatane\n",
      "processing city 459 | wum\n",
      "processing city 460 | xianyang\n",
      "processing city 461 | xai-xai\n",
      "processing city 462 | horsham\n",
      "processing city 463 | sijunjung\n",
      "processing city 464 | imphal\n",
      "processing city 465 | gorontalo\n",
      "processing city 466 | ceres\n",
      "processing city 467 | poso\n",
      "processing city 468 | shingu\n",
      "processing city 469 | hualmay\n",
      "processing city 470 | mitsamiouli\n",
      "processing city 471 | ust-tsilma\n",
      "processing city 472 | puerto madero\n",
      "processing city 473 | marsh harbour\n",
      "processing city 474 | kapoeta\n",
      "processing city 475 | morganton\n",
      "processing city 476 | fort nelson\n",
      "processing city 477 | tucuman\n",
      "processing city 478 | rumoi\n",
      "processing city 479 | mayor pablo lagerenza\n",
      "processing city 480 | meulaboh\n",
      "processing city 481 | berlevag\n",
      "processing city 482 | mecca\n",
      "processing city 483 | babanusah\n",
      "City not found. Skipping...\n",
      "processing city 484 | kursk\n",
      "processing city 485 | rapid valley\n",
      "processing city 486 | pyaozerskiy\n",
      "processing city 487 | fukue\n",
      "processing city 488 | satuk\n",
      "processing city 489 | owando\n",
      "processing city 490 | marsa matruh\n",
      "processing city 491 | superior\n",
      "processing city 492 | istok\n",
      "processing city 493 | vostok\n",
      "processing city 494 | pital\n",
      "processing city 495 | bara\n"
     ]
    },
    {
     "name": "stdout",
     "output_type": "stream",
     "text": [
      "processing city 496 | korla\n",
      "processing city 497 | karratha\n",
      "processing city 498 | nsanje\n",
      "processing city 499 | najran\n",
      "processing city 500 | daxian\n",
      "City not found. Skipping...\n",
      "processing city 501 | davila\n",
      "processing city 502 | stornoway\n",
      "processing city 503 | kalemie\n",
      "processing city 504 | xinzhou\n",
      "processing city 505 | touros\n",
      "processing city 506 | yerkoy\n",
      "processing city 507 | yuzhno-yeniseyskiy\n",
      "City not found. Skipping...\n",
      "processing city 508 | karistos\n",
      "City not found. Skipping...\n",
      "processing city 509 | olbia\n",
      "processing city 510 | chillicothe\n",
      "processing city 511 | chupa\n",
      "processing city 512 | sibolga\n",
      "processing city 513 | abbeville\n",
      "processing city 514 | mahon\n",
      "processing city 515 | troitsko-pechorsk\n",
      "processing city 516 | puerto leguizamo\n",
      "processing city 517 | kondinskoye\n",
      "processing city 518 | pisco\n",
      "processing city 519 | bur gabo\n",
      "City not found. Skipping...\n",
      "processing city 520 | menomonie\n",
      "processing city 521 | coihaique\n",
      "processing city 522 | banda aceh\n",
      "processing city 523 | lahad datu\n",
      "processing city 524 | kirakira\n",
      "processing city 525 | toliary\n",
      "City not found. Skipping...\n",
      "processing city 526 | agadez\n",
      "processing city 527 | pombas\n",
      "processing city 528 | denpasar\n",
      "processing city 529 | bubaque\n",
      "processing city 530 | dudestii vechi\n",
      "processing city 531 | warrensburg\n",
      "processing city 532 | flin flon\n",
      "processing city 533 | srandakan\n",
      "processing city 534 | jijiga\n",
      "processing city 535 | buala\n",
      "processing city 536 | toftir\n",
      "City not found. Skipping...\n",
      "processing city 537 | sisimiut\n",
      "processing city 538 | kenai\n",
      "processing city 539 | toamasina\n",
      "processing city 540 | huarmey\n",
      "processing city 541 | salekhard\n",
      "processing city 542 | evanston\n",
      "processing city 543 | naze\n",
      "processing city 544 | carballo\n",
      "processing city 545 | sabzevar\n",
      "processing city 546 | burns lake\n",
      "processing city 547 | roma\n",
      "processing city 548 | chernyakhovsk\n",
      "processing city 549 | sept-iles\n",
      "processing city 550 | misratah\n",
      "processing city 551 | terrace\n",
      "processing city 552 | seinajoki\n",
      "processing city 553 | dudinka\n",
      "processing city 554 | launceston\n",
      "processing city 555 | huai thalaeng\n",
      "processing city 556 | ust-kuyga\n",
      "processing city 557 | grants\n",
      "processing city 558 | aflu\n",
      "City not found. Skipping...\n",
      "processing city 559 | kohila\n",
      "processing city 560 | vila franca do campo\n",
      "processing city 561 | sandpoint\n",
      "processing city 562 | loknya\n",
      "processing city 563 | canutama\n",
      "processing city 564 | bandar-e torkaman\n",
      "City not found. Skipping...\n",
      "processing city 565 | tanout\n",
      "processing city 566 | kerema\n",
      "processing city 567 | ler\n",
      "processing city 568 | kollumerland\n",
      "City not found. Skipping...\n",
      "processing city 569 | yichang\n",
      "processing city 570 | domoni\n",
      "processing city 571 | lugovoy\n",
      "processing city 572 | buckingham\n",
      "processing city 573 | pabrade\n",
      "processing city 574 | bodden town\n",
      "processing city 575 | nemuro\n",
      "processing city 576 | mogadishu\n",
      "processing city 577 | moose factory\n",
      "processing city 578 | alekseyevsk\n",
      "processing city 579 | hyeres\n",
      "processing city 580 | moranbah\n",
      "processing city 581 | borovoy\n",
      "processing city 582 | loikaw\n",
      "processing city 583 | sabang\n",
      "processing city 584 | balimo\n",
      "City not found. Skipping...\n",
      "processing city 585 | aswan\n",
      "processing city 586 | wana\n",
      "processing city 587 | anderson\n",
      "processing city 588 | north bend\n",
      "processing city 589 | primorsko-akhtarsk\n",
      "processing city 590 | krasnyy chikoy\n",
      "processing city 591 | axim\n",
      "processing city 592 | makueni\n",
      "processing city 593 | makakilo city\n",
      "processing city 594 | adre\n",
      "processing city 595 | haibowan\n",
      "City not found. Skipping...\n",
      "processing city 596 | abasolo\n",
      "processing city 597 | lake city\n",
      "processing city 598 | havoysund\n"
     ]
    },
    {
     "data": {
      "text/html": [
       "<div>\n",
       "<style scoped>\n",
       "    .dataframe tbody tr th:only-of-type {\n",
       "        vertical-align: middle;\n",
       "    }\n",
       "\n",
       "    .dataframe tbody tr th {\n",
       "        vertical-align: top;\n",
       "    }\n",
       "\n",
       "    .dataframe thead th {\n",
       "        text-align: right;\n",
       "    }\n",
       "</style>\n",
       "<table border=\"1\" class=\"dataframe\">\n",
       "  <thead>\n",
       "    <tr style=\"text-align: right;\">\n",
       "      <th></th>\n",
       "      <th>City</th>\n",
       "      <th>Lat</th>\n",
       "      <th>Lng</th>\n",
       "      <th>Max Temp</th>\n",
       "      <th>Humidity</th>\n",
       "      <th>Cloudiness</th>\n",
       "      <th>Wind Speed</th>\n",
       "      <th>Country</th>\n",
       "    </tr>\n",
       "  </thead>\n",
       "  <tbody>\n",
       "    <tr>\n",
       "      <th>0</th>\n",
       "      <td>Camacha</td>\n",
       "      <td>33.08</td>\n",
       "      <td>-16.33</td>\n",
       "      <td>68</td>\n",
       "      <td>88</td>\n",
       "      <td>75</td>\n",
       "      <td>13.87</td>\n",
       "      <td>PT</td>\n",
       "    </tr>\n",
       "    <tr>\n",
       "      <th>1</th>\n",
       "      <td>Mataura</td>\n",
       "      <td>-46.19</td>\n",
       "      <td>168.86</td>\n",
       "      <td>42.75</td>\n",
       "      <td>93</td>\n",
       "      <td>100</td>\n",
       "      <td>6.22</td>\n",
       "      <td>NZ</td>\n",
       "    </tr>\n",
       "    <tr>\n",
       "      <th>2</th>\n",
       "      <td>Hobart</td>\n",
       "      <td>-42.88</td>\n",
       "      <td>147.33</td>\n",
       "      <td>44.6</td>\n",
       "      <td>81</td>\n",
       "      <td>20</td>\n",
       "      <td>5.82</td>\n",
       "      <td>AU</td>\n",
       "    </tr>\n",
       "    <tr>\n",
       "      <th>3</th>\n",
       "      <td>Manacor</td>\n",
       "      <td>39.57</td>\n",
       "      <td>3.21</td>\n",
       "      <td>73.4</td>\n",
       "      <td>94</td>\n",
       "      <td>0</td>\n",
       "      <td>3.36</td>\n",
       "      <td>ES</td>\n",
       "    </tr>\n",
       "    <tr>\n",
       "      <th>4</th>\n",
       "      <td>São José da Coroa Grande</td>\n",
       "      <td>-8.90</td>\n",
       "      <td>-35.15</td>\n",
       "      <td>75.6</td>\n",
       "      <td>81</td>\n",
       "      <td>2</td>\n",
       "      <td>6.60</td>\n",
       "      <td>BR</td>\n",
       "    </tr>\n",
       "    <tr>\n",
       "      <th>...</th>\n",
       "      <td>...</td>\n",
       "      <td>...</td>\n",
       "      <td>...</td>\n",
       "      <td>...</td>\n",
       "      <td>...</td>\n",
       "      <td>...</td>\n",
       "      <td>...</td>\n",
       "      <td>...</td>\n",
       "    </tr>\n",
       "    <tr>\n",
       "      <th>545</th>\n",
       "      <td>Makakilo City</td>\n",
       "      <td>21.35</td>\n",
       "      <td>-158.09</td>\n",
       "      <td>84.2</td>\n",
       "      <td>66</td>\n",
       "      <td>1</td>\n",
       "      <td>12.75</td>\n",
       "      <td>US</td>\n",
       "    </tr>\n",
       "    <tr>\n",
       "      <th>546</th>\n",
       "      <td>Adré</td>\n",
       "      <td>13.47</td>\n",
       "      <td>22.20</td>\n",
       "      <td>81.9</td>\n",
       "      <td>50</td>\n",
       "      <td>100</td>\n",
       "      <td>2.21</td>\n",
       "      <td>TD</td>\n",
       "    </tr>\n",
       "    <tr>\n",
       "      <th>547</th>\n",
       "      <td>Abasolo</td>\n",
       "      <td>20.45</td>\n",
       "      <td>-101.52</td>\n",
       "      <td>75.2</td>\n",
       "      <td>57</td>\n",
       "      <td>75</td>\n",
       "      <td>5.82</td>\n",
       "      <td>MX</td>\n",
       "    </tr>\n",
       "    <tr>\n",
       "      <th>548</th>\n",
       "      <td>Lake City</td>\n",
       "      <td>30.19</td>\n",
       "      <td>-82.64</td>\n",
       "      <td>89.6</td>\n",
       "      <td>55</td>\n",
       "      <td>40</td>\n",
       "      <td>11.41</td>\n",
       "      <td>US</td>\n",
       "    </tr>\n",
       "    <tr>\n",
       "      <th>549</th>\n",
       "      <td>Havøysund</td>\n",
       "      <td>71.00</td>\n",
       "      <td>24.66</td>\n",
       "      <td>41</td>\n",
       "      <td>80</td>\n",
       "      <td>75</td>\n",
       "      <td>27.51</td>\n",
       "      <td>NO</td>\n",
       "    </tr>\n",
       "  </tbody>\n",
       "</table>\n",
       "<p>550 rows × 8 columns</p>\n",
       "</div>"
      ],
      "text/plain": [
       "                         City    Lat     Lng Max Temp Humidity Cloudiness  \\\n",
       "0                     Camacha  33.08  -16.33       68       88         75   \n",
       "1                     Mataura -46.19  168.86    42.75       93        100   \n",
       "2                      Hobart -42.88  147.33     44.6       81         20   \n",
       "3                     Manacor  39.57    3.21     73.4       94          0   \n",
       "4    São José da Coroa Grande  -8.90  -35.15     75.6       81          2   \n",
       "..                        ...    ...     ...      ...      ...        ...   \n",
       "545             Makakilo City  21.35 -158.09     84.2       66          1   \n",
       "546                      Adré  13.47   22.20     81.9       50        100   \n",
       "547                   Abasolo  20.45 -101.52     75.2       57         75   \n",
       "548                 Lake City  30.19  -82.64     89.6       55         40   \n",
       "549                 Havøysund  71.00   24.66       41       80         75   \n",
       "\n",
       "     Wind Speed Country  \n",
       "0         13.87      PT  \n",
       "1          6.22      NZ  \n",
       "2          5.82      AU  \n",
       "3          3.36      ES  \n",
       "4          6.60      BR  \n",
       "..          ...     ...  \n",
       "545       12.75      US  \n",
       "546        2.21      TD  \n",
       "547        5.82      MX  \n",
       "548       11.41      US  \n",
       "549       27.51      NO  \n",
       "\n",
       "[550 rows x 8 columns]"
      ]
     },
     "execution_count": 69,
     "metadata": {},
     "output_type": "execute_result"
    }
   ],
   "source": [
    "base_url = f\"http://api.openweathermap.org/data/2.5/weather?APPID={weather_api_key}&units=imperial&q=\"\n",
    "\n",
    "data_df = pd.DataFrame(columns = [\"City\", \"Lat\", \"Lng\", \"Max Temp\", \"Humidity\", \"Cloudiness\", \"Wind Speed\", \"Country\", ])\n",
    "\n",
    "print(\"Beginning Data Retrieval\")     \n",
    "print(\"-----------------------------\")\n",
    "\n",
    "i = 1\n",
    "\n",
    "for city in cities:\n",
    "    print(f\"processing city {i} | {city}\")\n",
    "    \n",
    "    try: \n",
    "        response_json = requests.get(base_url + city).json()\n",
    "        city_name = response_json[\"name\"]\n",
    "        lat = response_json[\"coord\"][\"lat\"]\n",
    "        long = response_json[\"coord\"][\"lon\"]\n",
    "        max_temp = response_json[\"main\"][\"temp_max\"]\n",
    "        hum = response_json[\"main\"][\"humidity\"]\n",
    "        cloud = response_json[\"clouds\"][\"all\"]\n",
    "        wind_speed = response_json[\"wind\"][\"speed\"]\n",
    "        country = response_json[\"sys\"][\"country\"]\n",
    "        \n",
    "        data_df = data_df.append({\"City\":city_name, \n",
    "                                  \"Lat\": lat, \n",
    "                                  \"Lng\": long, \n",
    "                                  \"Max Temp\":max_temp, \n",
    "                                  \"Humidity\": hum,\n",
    "                                  \"Cloudiness\": cloud, \n",
    "                                  \"Wind Speed\": wind_speed, \n",
    "                                  \"Country\":country,}, ignore_index = True)\n",
    "    except:\n",
    "        print(\"City not found. Skipping...\")\n",
    "        pass\n",
    "    i += 1\n",
    "    \n",
    "data_df    \n",
    "\n"
   ]
  },
  {
   "cell_type": "markdown",
   "metadata": {},
   "source": [
    "### Convert Raw Data to DataFrame\n",
    "* Export the city data into a .csv.\n",
    "* Display the DataFrame"
   ]
  },
  {
   "cell_type": "code",
   "execution_count": 74,
   "metadata": {},
   "outputs": [],
   "source": [
    "with open(output_data_file, \"w\", encoding = \"utf-8\", newline = \"\\n\") as csvfile:\n",
    "     data_df.to_csv(csvfile, index=False)\n",
    "csvfile.close()\n"
   ]
  },
  {
   "cell_type": "code",
   "execution_count": 75,
   "metadata": {},
   "outputs": [],
   "source": [
    "with open(output_data_file, \"r\", encoding=\"utf-8\") as read_file:\n",
    "    data_df = pd.read_csv(read_file, na_filter=False)"
   ]
  },
  {
   "cell_type": "code",
   "execution_count": 76,
   "metadata": {},
   "outputs": [
    {
     "data": {
      "text/plain": [
       "City          550\n",
       "Lat           550\n",
       "Lng           550\n",
       "Max Temp      550\n",
       "Humidity      550\n",
       "Cloudiness    550\n",
       "Wind Speed    550\n",
       "Country       550\n",
       "dtype: int64"
      ]
     },
     "execution_count": 76,
     "metadata": {},
     "output_type": "execute_result"
    }
   ],
   "source": [
    "data_df.count()"
   ]
  },
  {
   "cell_type": "code",
   "execution_count": 77,
   "metadata": {},
   "outputs": [
    {
     "data": {
      "text/html": [
       "<div>\n",
       "<style scoped>\n",
       "    .dataframe tbody tr th:only-of-type {\n",
       "        vertical-align: middle;\n",
       "    }\n",
       "\n",
       "    .dataframe tbody tr th {\n",
       "        vertical-align: top;\n",
       "    }\n",
       "\n",
       "    .dataframe thead th {\n",
       "        text-align: right;\n",
       "    }\n",
       "</style>\n",
       "<table border=\"1\" class=\"dataframe\">\n",
       "  <thead>\n",
       "    <tr style=\"text-align: right;\">\n",
       "      <th></th>\n",
       "      <th>City</th>\n",
       "      <th>Lat</th>\n",
       "      <th>Lng</th>\n",
       "      <th>Max Temp</th>\n",
       "      <th>Humidity</th>\n",
       "      <th>Cloudiness</th>\n",
       "      <th>Wind Speed</th>\n",
       "      <th>Country</th>\n",
       "    </tr>\n",
       "  </thead>\n",
       "  <tbody>\n",
       "    <tr>\n",
       "      <th>0</th>\n",
       "      <td>Camacha</td>\n",
       "      <td>33.08</td>\n",
       "      <td>-16.33</td>\n",
       "      <td>68.00</td>\n",
       "      <td>88</td>\n",
       "      <td>75</td>\n",
       "      <td>13.87</td>\n",
       "      <td>PT</td>\n",
       "    </tr>\n",
       "    <tr>\n",
       "      <th>1</th>\n",
       "      <td>Mataura</td>\n",
       "      <td>-46.19</td>\n",
       "      <td>168.86</td>\n",
       "      <td>42.75</td>\n",
       "      <td>93</td>\n",
       "      <td>100</td>\n",
       "      <td>6.22</td>\n",
       "      <td>NZ</td>\n",
       "    </tr>\n",
       "    <tr>\n",
       "      <th>2</th>\n",
       "      <td>Hobart</td>\n",
       "      <td>-42.88</td>\n",
       "      <td>147.33</td>\n",
       "      <td>44.60</td>\n",
       "      <td>81</td>\n",
       "      <td>20</td>\n",
       "      <td>5.82</td>\n",
       "      <td>AU</td>\n",
       "    </tr>\n",
       "    <tr>\n",
       "      <th>3</th>\n",
       "      <td>Manacor</td>\n",
       "      <td>39.57</td>\n",
       "      <td>3.21</td>\n",
       "      <td>73.40</td>\n",
       "      <td>94</td>\n",
       "      <td>0</td>\n",
       "      <td>3.36</td>\n",
       "      <td>ES</td>\n",
       "    </tr>\n",
       "    <tr>\n",
       "      <th>4</th>\n",
       "      <td>São José da Coroa Grande</td>\n",
       "      <td>-8.90</td>\n",
       "      <td>-35.15</td>\n",
       "      <td>75.60</td>\n",
       "      <td>81</td>\n",
       "      <td>2</td>\n",
       "      <td>6.60</td>\n",
       "      <td>BR</td>\n",
       "    </tr>\n",
       "  </tbody>\n",
       "</table>\n",
       "</div>"
      ],
      "text/plain": [
       "                       City    Lat     Lng  Max Temp  Humidity  Cloudiness  \\\n",
       "0                   Camacha  33.08  -16.33     68.00        88          75   \n",
       "1                   Mataura -46.19  168.86     42.75        93         100   \n",
       "2                    Hobart -42.88  147.33     44.60        81          20   \n",
       "3                   Manacor  39.57    3.21     73.40        94           0   \n",
       "4  São José da Coroa Grande  -8.90  -35.15     75.60        81           2   \n",
       "\n",
       "   Wind Speed Country  \n",
       "0       13.87      PT  \n",
       "1        6.22      NZ  \n",
       "2        5.82      AU  \n",
       "3        3.36      ES  \n",
       "4        6.60      BR  "
      ]
     },
     "execution_count": 77,
     "metadata": {},
     "output_type": "execute_result"
    }
   ],
   "source": [
    "data_df.head()\n"
   ]
  },
  {
   "cell_type": "markdown",
   "metadata": {},
   "source": [
    "## Inspect the data and remove the cities where the humidity > 100%.\n",
    "----\n",
    "Skip this step if there are no cities that have humidity > 100%. "
   ]
  },
  {
   "cell_type": "code",
   "execution_count": 78,
   "metadata": {},
   "outputs": [
    {
     "data": {
      "text/plain": [
       "0"
      ]
     },
     "execution_count": 78,
     "metadata": {},
     "output_type": "execute_result"
    }
   ],
   "source": [
    "humid = data_df.loc[data_df['Humidity']>100]\n",
    "len(humid)\n"
   ]
  },
  {
   "cell_type": "code",
   "execution_count": null,
   "metadata": {},
   "outputs": [],
   "source": []
  },
  {
   "cell_type": "markdown",
   "metadata": {},
   "source": [
    "## Plotting the Data\n",
    "* Use proper labeling of the plots using plot titles (including date of analysis) and axes labels.\n",
    "* Save the plotted figures as .pngs."
   ]
  },
  {
   "cell_type": "markdown",
   "metadata": {},
   "source": [
    "## Latitude vs. Temperature Plot"
   ]
  },
  {
   "cell_type": "code",
   "execution_count": 79,
   "metadata": {
    "scrolled": true
   },
   "outputs": [
    {
     "data": {
      "text/plain": [
       "<matplotlib.axes._subplots.AxesSubplot at 0x2107d9d9e48>"
      ]
     },
     "execution_count": 79,
     "metadata": {},
     "output_type": "execute_result"
    },
    {
     "data": {
      "image/png": "[encoded data removed]",
      "text/plain": [
       "<Figure size 432x288 with 1 Axes>"
      ]
     },
     "metadata": {
      "needs_background": "light"
     },
     "output_type": "display_data"
    }
   ],
   "source": [
    "data_df.plot(kind=\"scatter\", x = \"Lat\", y= \"Max Temp\")"
   ]
  },
  {
   "cell_type": "code",
   "execution_count": 80,
   "metadata": {},
   "outputs": [
    {
     "data": {
      "image/png": "[encoded data removed]",
      "text/plain": [
       "<Figure size 432x288 with 1 Axes>"
      ]
     },
     "metadata": {
      "needs_background": "light"
     },
     "output_type": "display_data"
    },
    {
     "data": {
      "image/png": "[encoded data removed]",
      "text/plain": [
       "<Figure size 432x288 with 1 Axes>"
      ]
     },
     "metadata": {
      "needs_background": "light"
     },
     "output_type": "display_data"
    },
    {
     "data": {
      "image/png": "[encoded data removed]",
      "text/plain": [
       "<Figure size 432x288 with 1 Axes>"
      ]
     },
     "metadata": {
      "needs_background": "light"
     },
     "output_type": "display_data"
    },
    {
     "data": {
      "image/png": "[encoded data removed]",
      "text/plain": [
       "<Figure size 432x288 with 1 Axes>"
      ]
     },
     "metadata": {
      "needs_background": "light"
     },
     "output_type": "display_data"
    }
   ],
   "source": [
    "#a function that looks through all 4 keys \n",
    "def maps():\n",
    "    list = [\"Max Temp\", \"Humidity\",\"Cloudiness\", \"Wind Speed\" ]\n",
    "    for value in list:\n",
    "        data_df.plot(kind=\"scatter\", x = \"Lat\", y = value)\n",
    "\n",
    "maps()"
   ]
  },
  {
   "cell_type": "markdown",
   "metadata": {},
   "source": [
    "## Linear Regression"
   ]
  },
  {
   "cell_type": "code",
   "execution_count": 81,
   "metadata": {},
   "outputs": [],
   "source": [
    "# OPTIONAL: Create a function to create Linear Regression plots\n",
    "\n",
    "def lr():\n",
    "    slope, intercept, r_value, p_value, std_err = linregress(x, y)\n",
    "    regress_values = x * slope + intercept\n",
    "    line_eq = \"y = \" + str(round(slope,2)) + \"x + \" + str(round(intercept,2))\n",
    "    plt.scatter(x, y)\n",
    "    plt.plot(x, regress_values, 'r-')\n",
    "    plt.annotate(line_eq, (0,0.2), xycoords='axes fraction', fontsize = 12, color='red')\n",
    "    plt.xlabel('Lat')\n",
    "    plt.ylabel(y_label)\n",
    "    print(f\"The r-squared is: {r_value**2}\")\n",
    "    plt.show()  \n",
    "\n"
   ]
  },
  {
   "cell_type": "code",
   "execution_count": 82,
   "metadata": {},
   "outputs": [],
   "source": [
    "# Create Northern and Southern Hemisphere DataFrames\n",
    "\n",
    "NorthHemi = data_df.loc[data_df[\"Lat\"] > 0]\n",
    "SouthHemi = data_df.loc[data_df[\"Lat\"] < 0]\n"
   ]
  },
  {
   "cell_type": "markdown",
   "metadata": {},
   "source": [
    "####  Northern Hemisphere - Max Temp vs. Latitude Linear Regression"
   ]
  },
  {
   "cell_type": "code",
   "execution_count": 83,
   "metadata": {},
   "outputs": [
    {
     "name": "stdout",
     "output_type": "stream",
     "text": [
      "The r-squared is: 0.4428368413159579\n"
     ]
    },
    {
     "data": {
      "image/png": "[encoded data removed]",
      "text/plain": [
       "<Figure size 432x288 with 1 Axes>"
      ]
     },
     "metadata": {
      "needs_background": "light"
     },
     "output_type": "display_data"
    }
   ],
   "source": [
    "x = NorthHemi[\"Lat\"]\n",
    "y = NorthHemi[\"Max Temp\"]\n",
    "y_label = \"Max Temp\"\n",
    "\n",
    "lr()"
   ]
  },
  {
   "cell_type": "markdown",
   "metadata": {},
   "source": [
    "####  Southern Hemisphere - Max Temp vs. Latitude Linear Regression"
   ]
  },
  {
   "cell_type": "code",
   "execution_count": 84,
   "metadata": {},
   "outputs": [
    {
     "name": "stdout",
     "output_type": "stream",
     "text": [
      "The r-squared is: 0.7196183706147466\n"
     ]
    },
    {
     "data": {
      "image/png": "[encoded data removed]",
      "text/plain": [
       "<Figure size 432x288 with 1 Axes>"
      ]
     },
     "metadata": {
      "needs_background": "light"
     },
     "output_type": "display_data"
    }
   ],
   "source": [
    "x = SouthHemi[\"Lat\"]\n",
    "y = SouthHemi[\"Max Temp\"]\n",
    "y_label = \"Max Temp\"\n",
    "\n",
    "lr()"
   ]
  },
  {
   "cell_type": "markdown",
   "metadata": {},
   "source": [
    "####  Northern Hemisphere - Humidity (%) vs. Latitude Linear Regression"
   ]
  },
  {
   "cell_type": "code",
   "execution_count": 85,
   "metadata": {},
   "outputs": [
    {
     "name": "stdout",
     "output_type": "stream",
     "text": [
      "The r-squared is: 0.0024559048837864477\n"
     ]
    },
    {
     "data": {
      "image/png": "[encoded data removed]",
      "text/plain": [
       "<Figure size 432x288 with 1 Axes>"
      ]
     },
     "metadata": {
      "needs_background": "light"
     },
     "output_type": "display_data"
    }
   ],
   "source": [
    "x = NorthHemi[\"Lat\"]\n",
    "y = NorthHemi[\"Humidity\"]\n",
    "y_label = \"Humidity\"\n",
    "\n",
    "lr()"
   ]
  },
  {
   "cell_type": "markdown",
   "metadata": {},
   "source": [
    "####  Southern Hemisphere - Humidity (%) vs. Latitude Linear Regression"
   ]
  },
  {
   "cell_type": "code",
   "execution_count": 86,
   "metadata": {},
   "outputs": [
    {
     "name": "stdout",
     "output_type": "stream",
     "text": [
      "The r-squared is: 0.0021487795233491704\n"
     ]
    },
    {
     "data": {
      "image/png": "[encoded data removed]",
      "text/plain": [
       "<Figure size 432x288 with 1 Axes>"
      ]
     },
     "metadata": {
      "needs_background": "light"
     },
     "output_type": "display_data"
    }
   ],
   "source": [
    "x = SouthHemi[\"Lat\"]\n",
    "y = SouthHemi[\"Humidity\"]\n",
    "y_label = \"Humidity\"\n",
    "\n",
    "lr()"
   ]
  },
  {
   "cell_type": "markdown",
   "metadata": {},
   "source": [
    "####  Northern Hemisphere - Cloudiness (%) vs. Latitude Linear Regression"
   ]
  },
  {
   "cell_type": "code",
   "execution_count": 87,
   "metadata": {},
   "outputs": [
    {
     "name": "stdout",
     "output_type": "stream",
     "text": [
      "The r-squared is: 0.0018118311183046183\n"
     ]
    },
    {
     "data": {
      "image/png": "[encoded data removed]",
      "text/plain": [
       "<Figure size 432x288 with 1 Axes>"
      ]
     },
     "metadata": {
      "needs_background": "light"
     },
     "output_type": "display_data"
    }
   ],
   "source": [
    "x = NorthHemi[\"Lat\"]\n",
    "y = NorthHemi[\"Cloudiness\"]\n",
    "y_label = \"Cloudiness\"\n",
    "\n",
    "lr()"
   ]
  },
  {
   "cell_type": "markdown",
   "metadata": {},
   "source": [
    "####  Southern Hemisphere - Cloudiness (%) vs. Latitude Linear Regression"
   ]
  },
  {
   "cell_type": "code",
   "execution_count": 88,
   "metadata": {},
   "outputs": [
    {
     "name": "stdout",
     "output_type": "stream",
     "text": [
      "The r-squared is: 0.02618955196505836\n"
     ]
    },
    {
     "data": {
      "image/png": "[encoded data removed]",
      "text/plain": [
       "<Figure size 432x288 with 1 Axes>"
      ]
     },
     "metadata": {
      "needs_background": "light"
     },
     "output_type": "display_data"
    }
   ],
   "source": [
    "x = SouthHemi[\"Lat\"]\n",
    "y = SouthHemi[\"Cloudiness\"]\n",
    "y_label = \"Cloudiness\"\n",
    "\n",
    "lr()"
   ]
  },
  {
   "cell_type": "markdown",
   "metadata": {},
   "source": [
    "####  Northern Hemisphere - Wind Speed (mph) vs. Latitude Linear Regression"
   ]
  },
  {
   "cell_type": "code",
   "execution_count": 89,
   "metadata": {},
   "outputs": [
    {
     "name": "stdout",
     "output_type": "stream",
     "text": [
      "The r-squared is: 0.02882283396286125\n"
     ]
    },
    {
     "data": {
      "image/png": "[encoded data removed]",
      "text/plain": [
       "<Figure size 432x288 with 1 Axes>"
      ]
     },
     "metadata": {
      "needs_background": "light"
     },
     "output_type": "display_data"
    }
   ],
   "source": [
    "x = NorthHemi[\"Lat\"]\n",
    "y = NorthHemi[\"Wind Speed\"]\n",
    "y_label = \"Wind Speed\"\n",
    "\n",
    "lr()"
   ]
  },
  {
   "cell_type": "markdown",
   "metadata": {},
   "source": [
    "####  Southern Hemisphere - Wind Speed (mph) vs. Latitude Linear Regression"
   ]
  },
  {
   "cell_type": "code",
   "execution_count": 90,
   "metadata": {},
   "outputs": [
    {
     "name": "stdout",
     "output_type": "stream",
     "text": [
      "The r-squared is: 0.019053958978181143\n"
     ]
    },
    {
     "data": {
      "image/png": "[encoded data removed]",
      "text/plain": [
       "<Figure size 432x288 with 1 Axes>"
      ]
     },
     "metadata": {
      "needs_background": "light"
     },
     "output_type": "display_data"
    }
   ],
   "source": [
    "x = SouthHemi[\"Lat\"]\n",
    "y = SouthHemi[\"Wind Speed\"]\n",
    "y_label = \"Wind Speed\"\n",
    "\n",
    "lr()"
   ]
  },
  {
   "cell_type": "code",
   "execution_count": null,
   "metadata": {},
   "outputs": [],
   "source": []
  }
 ],
 "metadata": {
  "anaconda-cloud": {},
  "kernel_info": {
   "name": "python3"
  },
  "kernelspec": {
   "display_name": "Python [conda env:PythonData] *",
   "language": "python",
   "name": "conda-env-PythonData-py"
  },
  "language_info": {
   "codemirror_mode": {
    "name": "ipython",
    "version": 3
   },
   "file_extension": ".py",
   "mimetype": "text/x-python",
   "name": "python",
   "nbconvert_exporter": "python",
   "pygments_lexer": "ipython3",
   "version": "3.6.10"
  },
  "latex_envs": {
   "LaTeX_envs_menu_present": true,
   "autoclose": false,
   "autocomplete": true,
   "bibliofile": "biblio.bib",
   "cite_by": "apalike",
   "current_citInitial": 1,
   "eqLabelWithNumbers": true,
   "eqNumInitial": 1,
   "hotkeys": {
    "equation": "Ctrl-E",
    "itemize": "Ctrl-I"
   },
   "labels_anchors": false,
   "latex_user_defs": false,
   "report_style_numbering": false,
   "user_envs_cfg": false
  },
  "nteract": {
   "version": "0.12.3"
  }
 },
 "nbformat": 4,
 "nbformat_minor": 2
}
